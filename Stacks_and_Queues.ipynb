{
  "nbformat": 4,
  "nbformat_minor": 0,
  "metadata": {
    "colab": {
      "provenance": [],
      "authorship_tag": "ABX9TyM8Xv9qP4mcwykN0FrPotnG",
      "include_colab_link": true
    },
    "kernelspec": {
      "name": "python3",
      "display_name": "Python 3"
    },
    "language_info": {
      "name": "python"
    }
  },
  "cells": [
    {
      "cell_type": "markdown",
      "metadata": {
        "id": "view-in-github",
        "colab_type": "text"
      },
      "source": [
        "<a href=\"https://colab.research.google.com/github/pararthdave/DSA-Practice/blob/main/Stacks_and_Queues.ipynb\" target=\"_parent\"><img src=\"https://colab.research.google.com/assets/colab-badge.svg\" alt=\"Open In Colab\"/></a>"
      ]
    },
    {
      "cell_type": "code",
      "execution_count": null,
      "metadata": {
        "id": "rT9bUt3FidWf"
      },
      "outputs": [],
      "source": [
        "from collections import deque"
      ]
    },
    {
      "cell_type": "code",
      "source": [
        "stack=deque([1,2,3,4,5])\n",
        "print(stack)\n",
        "stack.pop()\n",
        "stack.append(4)\n",
        "print(stack)"
      ],
      "metadata": {
        "colab": {
          "base_uri": "https://localhost:8080/"
        },
        "id": "8AsulFO1jGAW",
        "outputId": "7ccbc20c-605e-4749-a065-5704c8d9980f"
      },
      "execution_count": null,
      "outputs": [
        {
          "output_type": "stream",
          "name": "stdout",
          "text": [
            "deque([1, 2, 3, 4, 5])\n",
            "deque([1, 2, 3, 4, 4])\n"
          ]
        }
      ]
    },
    {
      "cell_type": "code",
      "source": [
        "queue=deque([1,2,3,4,5])\n",
        "queue.appendleft(2)\n",
        "queue.pop()\n",
        "print(queue)"
      ],
      "metadata": {
        "colab": {
          "base_uri": "https://localhost:8080/"
        },
        "id": "S0W_D8NrjQpQ",
        "outputId": "5785732b-423f-4828-9f41-f6638ea2396c"
      },
      "execution_count": null,
      "outputs": [
        {
          "output_type": "stream",
          "name": "stdout",
          "text": [
            "deque([2, 1, 2, 3, 4])\n"
          ]
        }
      ]
    },
    {
      "cell_type": "code",
      "source": [
        "#using queue module\n",
        "import queue\n",
        "q=queue.Queue(maxsize=5)\n",
        "q.put(1)\n",
        "q.put(2)\n",
        "q.put(3)\n",
        "q.put(4)\n",
        "q.put(5)\n",
        "print(q.get())\n",
        "print(q.get())\n",
        "print(q.get())\n",
        "print(q.get())\n"
      ],
      "metadata": {
        "colab": {
          "base_uri": "https://localhost:8080/"
        },
        "id": "agALGAbsjfvv",
        "outputId": "36070dc8-0231-4269-bd7e-90240672d171"
      },
      "execution_count": 18,
      "outputs": [
        {
          "output_type": "stream",
          "name": "stdout",
          "text": [
            "1\n",
            "2\n",
            "3\n",
            "4\n"
          ]
        }
      ]
    },
    {
      "cell_type": "code",
      "source": [
        "q=queue.LifoQueue(maxsize=5)\n",
        "q.put(1)\n",
        "q.put(2)\n",
        "q.put(3)\n",
        "q.put(4)\n",
        "q.put(5)\n",
        "print(q.get())\n",
        "print(q.get())\n",
        "print(q.get())\n",
        "print(q.get())\n"
      ],
      "metadata": {
        "id": "wXxwJLc1j6Tt",
        "colab": {
          "base_uri": "https://localhost:8080/"
        },
        "outputId": "f3b8515e-98da-4b78-8cf2-7b8c861e235e"
      },
      "execution_count": 19,
      "outputs": [
        {
          "output_type": "stream",
          "name": "stdout",
          "text": [
            "5\n",
            "4\n",
            "3\n",
            "2\n"
          ]
        }
      ]
    },
    {
      "cell_type": "code",
      "source": [],
      "metadata": {
        "id": "ItGtmtBxnGYH"
      },
      "execution_count": null,
      "outputs": []
    }
  ]
}