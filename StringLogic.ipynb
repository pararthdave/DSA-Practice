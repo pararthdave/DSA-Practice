{
  "nbformat": 4,
  "nbformat_minor": 0,
  "metadata": {
    "colab": {
      "provenance": [],
      "authorship_tag": "ABX9TyPllETftYwasM0ErcQIG8ZS",
      "include_colab_link": true
    },
    "kernelspec": {
      "name": "python3",
      "display_name": "Python 3"
    },
    "language_info": {
      "name": "python"
    }
  },
  "cells": [
    {
      "cell_type": "markdown",
      "metadata": {
        "id": "view-in-github",
        "colab_type": "text"
      },
      "source": [
        "<a href=\"https://colab.research.google.com/github/pararthdave/DSA-Practice/blob/main/StringLogic.ipynb\" target=\"_parent\"><img src=\"https://colab.research.google.com/assets/colab-badge.svg\" alt=\"Open In Colab\"/></a>"
      ]
    },
    {
      "cell_type": "markdown",
      "source": [
        "You are given a number N. You need to print the pattern for the given value of N.\n",
        "\n",
        "For N = 2 the pattern will be \n",
        "\n",
        "2 2 1 1\n",
        "\n",
        "2 1\n",
        "\n",
        "For N = 3 the pattern will be\n",
        "\n",
        "3 3 3 2 2 2 1 1 1\n",
        "\n",
        "3 3 2 2 1 1\n",
        "\n",
        "3 2 1"
      ],
      "metadata": {
        "id": "F4UsZYWo2hjQ"
      }
    },
    {
      "cell_type": "code",
      "execution_count": 43,
      "metadata": {
        "colab": {
          "base_uri": "https://localhost:8080/"
        },
        "id": "GmOX1lZ11oR5",
        "outputId": "1d20999a-b4d0-40c9-9e5d-774e78940c3c"
      },
      "outputs": [
        {
          "output_type": "stream",
          "name": "stdout",
          "text": [
            "333222111\n",
            "332211\n",
            "321\n"
          ]
        }
      ],
      "source": [
        "N=3\n",
        "fstr=\"\"\n",
        "for i in reversed(range(N)):\n",
        "  for j in (range(N)):\n",
        "    fstr+=str(N-j)*(i+1)\n",
        "  print(fstr)\n",
        "  fstr=''"
      ]
    },
    {
      "cell_type": "markdown",
      "source": [
        "Palindrome"
      ],
      "metadata": {
        "id": "rdw4-laG7HmS"
      }
    },
    {
      "cell_type": "code",
      "source": [
        "s=\"aBABAABAB\"\n",
        "flag=0\n",
        "l=len(s)\n",
        "for i in range(int(len(s)/2)):\n",
        "  if s[i]==s[len(s)-i-1]:\n",
        "    flag+=1\n",
        "if flag>=(l-1)/2:\n",
        "  print(\"palindrome\")\n",
        "else:\n",
        "  print(\"not palindrome\")"
      ],
      "metadata": {
        "colab": {
          "base_uri": "https://localhost:8080/"
        },
        "id": "h2OBNpbd3D1T",
        "outputId": "4e1e4a43-4134-4e6c-e7fb-47d6dae4f305"
      },
      "execution_count": 18,
      "outputs": [
        {
          "output_type": "stream",
          "name": "stdout",
          "text": [
            "not palindrome\n"
          ]
        }
      ]
    },
    {
      "cell_type": "code",
      "source": [
        "#reverse int XD\n",
        "i=223465\n",
        "s=str(i)\n",
        "fs=''\n",
        "for i in reversed(range(len(s))):\n",
        "  fs+=str(s[i])\n",
        "print(int(fs))"
      ],
      "metadata": {
        "colab": {
          "base_uri": "https://localhost:8080/"
        },
        "id": "502-XHPe8sjH",
        "outputId": "517822fd-9ce8-48eb-ca69-80d47dafad83"
      },
      "execution_count": 24,
      "outputs": [
        {
          "output_type": "stream",
          "name": "stdout",
          "text": [
            "564322\n"
          ]
        }
      ]
    },
    {
      "cell_type": "code",
      "source": [
        "#first unqiue character in string\n",
        "s=\"waeaeq\"\n",
        "\n",
        "for i in range(len(s)):\n",
        "  count=0\n",
        "  for j in range(len(s)):\n",
        "      if s[i]==s[j] and i!=j:\n",
        "        count=1\n",
        "        break\n",
        "  if count==0:\n",
        "    print(s[i])\n",
        "    break"
      ],
      "metadata": {
        "colab": {
          "base_uri": "https://localhost:8080/"
        },
        "id": "pqdtw60XFx88",
        "outputId": "07a064e0-89cb-48c0-becb-a6f15cb6064c"
      },
      "execution_count": 69,
      "outputs": [
        {
          "output_type": "stream",
          "name": "stdout",
          "text": [
            "w\n"
          ]
        }
      ]
    },
    {
      "cell_type": "code",
      "source": [
        "#anagram\n",
        "a='sasa'\n",
        "b='asss'\n",
        "a_lst=sorted(a.lower())\n",
        "b_lst=sorted(b.lower())\n",
        "if a_lst==b_lst:\n",
        "  print(\"anagram\")\n",
        "else:\n",
        "  print(\"not anagram\")"
      ],
      "metadata": {
        "colab": {
          "base_uri": "https://localhost:8080/"
        },
        "id": "_bbV0eNeJHDK",
        "outputId": "ad26f42b-0716-4301-e93c-a7243f6649c3"
      },
      "execution_count": 78,
      "outputs": [
        {
          "output_type": "stream",
          "name": "stdout",
          "text": [
            "not anagram\n"
          ]
        }
      ]
    },
    {
      "cell_type": "code",
      "source": [],
      "metadata": {
        "id": "h5LZp81eK5et"
      },
      "execution_count": null,
      "outputs": []
    }
  ]
}