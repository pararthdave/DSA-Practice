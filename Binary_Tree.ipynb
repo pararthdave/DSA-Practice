{
  "nbformat": 4,
  "nbformat_minor": 0,
  "metadata": {
    "colab": {
      "provenance": [],
      "authorship_tag": "ABX9TyP+SuaCa4W4fmGMACUBK5Jo",
      "include_colab_link": true
    },
    "kernelspec": {
      "name": "python3",
      "display_name": "Python 3"
    },
    "language_info": {
      "name": "python"
    }
  },
  "cells": [
    {
      "cell_type": "markdown",
      "metadata": {
        "id": "view-in-github",
        "colab_type": "text"
      },
      "source": [
        "<a href=\"https://colab.research.google.com/github/pararthdave/DSA-Practice/blob/main/Binary_Tree.ipynb\" target=\"_parent\"><img src=\"https://colab.research.google.com/assets/colab-badge.svg\" alt=\"Open In Colab\"/></a>"
      ]
    },
    {
      "cell_type": "code",
      "execution_count": 4,
      "metadata": {
        "colab": {
          "base_uri": "https://localhost:8080/"
        },
        "id": "sOc6gXaspnhC",
        "outputId": "3426eb62-11c7-40ec-c714-825c450b6e3a"
      },
      "outputs": [
        {
          "output_type": "stream",
          "name": "stdout",
          "text": [
            "2\n",
            "3\n",
            "10\n",
            "123\n"
          ]
        }
      ],
      "source": [
        "class Node:\n",
        "  def __init__(self, data):\n",
        "    self.right=None\n",
        "    self.left=None\n",
        "    self.data=data\n",
        "  def insert(self,data):\n",
        "    if self.data:\n",
        "      if data < self.data:\n",
        "        if self.left is None:\n",
        "          self.left=Node(data)\n",
        "        else:\n",
        "          self.left.insert(data)\n",
        "      elif data> self.data:\n",
        "        if self.right is None:\n",
        "          self.right=Node(data)\n",
        "        else:\n",
        "          self.right.insert(data)\n",
        "    else:\n",
        "      self.data=data\n",
        "\n",
        "  def printTree(self):\n",
        "    if self.left:\n",
        "      self.left.printTree()\n",
        "    print(self.data)\n",
        "    if self.right:\n",
        "      self.right.printTree()\n",
        "  \n",
        "root=Node(10)\n",
        "root.insert(3)\n",
        "root.insert(10)\n",
        "root.insert(2)\n",
        "root.insert(123)\n",
        "root.printTree()\n"
      ]
    },
    {
      "cell_type": "code",
      "source": [],
      "metadata": {
        "id": "sgpWf1gvqsyw"
      },
      "execution_count": null,
      "outputs": []
    }
  ]
}