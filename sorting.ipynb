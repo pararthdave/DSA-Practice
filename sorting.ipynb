{
  "nbformat": 4,
  "nbformat_minor": 0,
  "metadata": {
    "colab": {
      "provenance": [],
      "authorship_tag": "ABX9TyPuFP2ulCRlsTIuLrZen5tk",
      "include_colab_link": true
    },
    "kernelspec": {
      "name": "python3",
      "display_name": "Python 3"
    },
    "language_info": {
      "name": "python"
    }
  },
  "cells": [
    {
      "cell_type": "markdown",
      "metadata": {
        "id": "view-in-github",
        "colab_type": "text"
      },
      "source": [
        "<a href=\"https://colab.research.google.com/github/pararthdave/DSA-Practice/blob/main/sorting.ipynb\" target=\"_parent\"><img src=\"https://colab.research.google.com/assets/colab-badge.svg\" alt=\"Open In Colab\"/></a>"
      ]
    },
    {
      "cell_type": "code",
      "execution_count": 7,
      "metadata": {
        "colab": {
          "base_uri": "https://localhost:8080/"
        },
        "id": "KUpVc_gbxyOG",
        "outputId": "49e69e95-2350-4c86-e806-b70bd0e9293e"
      },
      "outputs": [
        {
          "output_type": "stream",
          "name": "stdout",
          "text": [
            "[1, 1, 2, 3, 4, 5, 7]\n"
          ]
        }
      ],
      "source": [
        "#bubble\n",
        "lst=[2,1,1,3,4,7,5]\n",
        "for i in range(len(lst)):\n",
        "  for j in range(len(lst)):\n",
        "    if lst[j]>lst[i]:\n",
        "      lst[i],lst[j]=lst[j],lst[i]\n",
        "print(lst)"
      ]
    },
    {
      "cell_type": "code",
      "source": [
        "#selection\n",
        "lst=[2,1,1,3,4,7,5]\n",
        "for i in range(len(lst)):\n",
        "  min_index=i\n",
        "  for j in range(i+1,len(lst)):\n",
        "    if lst[min_index]>lst[j]: \n",
        "      min_index=j\n",
        "  lst[min_index],lst[i]=lst[i],lst[min_index]\n",
        "print(lst)"
      ],
      "metadata": {
        "colab": {
          "base_uri": "https://localhost:8080/"
        },
        "id": "GBVe3vsWyafP",
        "outputId": "ecc72ef9-3560-41cc-d90d-906b9ae5799d"
      },
      "execution_count": 14,
      "outputs": [
        {
          "output_type": "stream",
          "name": "stdout",
          "text": [
            "[1, 1, 2, 3, 4, 5, 7]\n"
          ]
        }
      ]
    },
    {
      "cell_type": "code",
      "source": [],
      "metadata": {
        "id": "WVESpBc00rXA"
      },
      "execution_count": null,
      "outputs": []
    }
  ]
}